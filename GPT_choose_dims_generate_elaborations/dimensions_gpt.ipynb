{
 "nbformat": 4,
 "nbformat_minor": 0,
 "metadata": {
  "colab": {
   "private_outputs": true,
   "provenance": [],
   "machine_shape": "hm",
   "gpuType": "T4"
  },
  "kernelspec": {
   "name": "python3",
   "display_name": "Python 3"
  },
  "language_info": {
   "name": "python"
  },
  "accelerator": "GPU"
 },
 "cells": [
  {
   "cell_type": "code",
   "execution_count": null,
   "metadata": {
    "id": "2vRK7JsFY4IV"
   },
   "outputs": [],
   "source": [
    "!pip install openai\n",
    "import requests\n",
    "import json"
   ]
  },
  {
   "cell_type": "code",
   "source": [
    "import openai\n",
    "API_KEY = \"XXX\"\n",
    "API_ENDPOINT = \"https://api.openai.com/v1/chat/completions\"\n",
    "openai.api_key = API_KEY"
   ],
   "metadata": {
    "id": "HL-i-kXJRI1i"
   },
   "execution_count": null,
   "outputs": []
  },
  {
   "cell_type": "code",
   "source": [
    "with open('/content/drive/MyDrive/MacawProject/optional_dims.txt', 'r') as optional_dims:\n",
    "  optional_dims_content = optional_dims.read()"
   ],
   "metadata": {
    "id": "fztXNZJ_47ed"
   },
   "execution_count": null,
   "outputs": []
  },
  {
   "cell_type": "code",
   "source": [
    "import openai\n",
    "def gpt3(prompt):\n",
    "    response = openai.Completion.create(\n",
    "        model=\"text-davinci-003\",\n",
    "        prompt=prompt,\n",
    "        temperature=0.7,\n",
    "        max_tokens=1000,\n",
    "        top_p=1,\n",
    "        frequency_penalty=0,\n",
    "        presence_penalty=0\n",
    "    )\n",
    "    if response:\n",
    "        if response.choices and response.choices[0]:\n",
    "            res = response.choices[0].text.strip()\n",
    "            return res\n",
    "    return None\n"
   ],
   "metadata": {
    "id": "6Bzkxr2dMuws"
   },
   "execution_count": null,
   "outputs": []
  },
  {
   "cell_type": "code",
   "source": [
    "import json\n",
    "\n",
    "def read_situation_from_json(file_path, is_train):\n",
    "  situation_data = []\n",
    "  with open(file_path, 'r') as file:\n",
    "    for line in file:\n",
    "      data = json.loads(line)\n",
    "      question = data.get('question')\n",
    "      possible_ans = data.get('mcoptions')\n",
    "      d = {}\n",
    "      d['question'] = question\n",
    "      d['answers'] = possible_ans\n",
    "      if is_train:\n",
    "        chosen_dims = data.get('chosen_dimensions')\n",
    "        elaborations = data.get('elaboration')\n",
    "        d['chosen_dimensions'] = chosen_dims\n",
    "        d['elaboration'] = elaborations\n",
    "      situation_data.append(d)\n",
    "  return situation_data\n",
    "\n",
    "situations = read_situation_from_json(\"/content/drive/MyDrive/MacawProject/in_context_few_shots.jsonl\", True)\n"
   ],
   "metadata": {
    "id": "-aLCLpVZ1AxJ"
   },
   "execution_count": null,
   "outputs": []
  },
  {
   "cell_type": "code",
   "source": [
    "\n",
    "\n",
    "\n",
    "def append_dims_elaborations_to_few_shot_prompt(filename, situation, dims, elaborations):\n",
    "  with open(filename, 'a') as prompt_file:\n",
    "    prompt_file.write('Inputs:\\n')\n",
    "    prompt_file.write('SITUATION: ' + situation['question'] + '\\n')\n",
    "    prompt_file.write('ANSWERS: ' + situation['answers'] + '\\n')\n",
    "    prompt_file.write('Outputs:\\n')\n",
    "    prompt_file.write('CHOSEN_DIMENSIONS:\\n' + dims)\n",
    "    prompt_file.write('ELABORATIONS:\\n' + elaborations + '\\n')\n",
    "\n",
    "\n",
    "filename = '/content/drive/MyDrive/MacawProject/dimensions_prompt.txt'\n",
    "for situation in situations:\n",
    "  dims = \"\"\n",
    "  elaborations = \"\"\n",
    "  for d in situation['chosen_dimensions']:\n",
    "    dims += d + '\\n'\n",
    "  elaborations += situation['elaboration'].replace(\" [\", \"\\n[\")\n",
    "\n",
    "  append_dims_elaborations_to_few_shot_prompt(filename, situation, dims, elaborations)\n",
    "\n",
    "\n",
    "\n",
    "\n"
   ],
   "metadata": {
    "id": "_jzTubQ73x50"
   },
   "execution_count": null,
   "outputs": []
  },
  {
   "cell_type": "code",
   "source": [
    "import pdb\n",
    "situations = read_situation_from_json(\"/content/drive/MyDrive/MacawProject/test_samples.jsonl\", False)\n",
    "\n",
    "with open ('/content/drive/MyDrive/MacawProject/dimensions_prompt.txt', 'r') as prompt_few_shot:\n",
    "  prompt_few_shot_content = prompt_few_shot.read()\n",
    "\n",
    "\n",
    "result = []\n",
    "for situation in situations:\n",
    "  prompt = prompt_few_shot_content + '\\n' + \"SITUATION: \" + situation['question']\n",
    "  res = gpt3(prompt)\n",
    "  res = res.split(\"CHOSEN_DIMENSIONS:\")[1]\n",
    "  chosen_dims, elaborations = res.split(\"ELABORATIONS:\")\n",
    "  chosen_dims_list = [item for item in chosen_dims.split('\\n') if item]\n",
    "  elaborations = elaborations.replace('\\n', '')\n",
    "  situation['chosen_dimensions'] = chosen_dims_list\n",
    "  situation['elaboration'] = elaborations\n",
    "  result.append(situation)\n",
    "\n",
    "print(result)\n",
    "\n",
    "\n",
    "\n"
   ],
   "metadata": {
    "id": "qb9cQtvFRNQU"
   },
   "execution_count": null,
   "outputs": []
  },
  {
   "cell_type": "code",
   "source": [
    "def write_result_to_jsonl(data, filename):\n",
    "    with open(filename, 'w') as f:\n",
    "        for item in data:\n",
    "            f.write(json.dumps(item))\n",
    "            f.write('\\n')\n",
    "\n",
    "filename = '/content/drive/MyDrive/MacawProject/gpt3_output.jsonl'\n",
    "write_result_to_jsonl(result, filename)"
   ],
   "metadata": {
    "id": "K28K0kFWC--T"
   },
   "execution_count": null,
   "outputs": []
  },
  {
   "cell_type": "code",
   "source": [
    "# import pandas as pd\n",
    "# import seaborn as sns\n",
    "# import matplotlib.pyplot as plt\n",
    "# from sklearn.metrics import confusion_matrix\n",
    "# import numpy as np\n",
    "# from sklearn.metrics import classification_report\n",
    "\n",
    "\n",
    "# dimensions_csv = pd.read_csv('/content/drive/MyDrive/MacawProject/dimensionsCsvToHashMap.csv')\n",
    "# r = []\n",
    "# for index, row in dimensions_csv.iterrows():\n",
    "#   d = {'dimension' : row[0], 'description' : row[1], 'Relation of' : row[3]}\n",
    "#   r.append(d)\n",
    "\n",
    "# r"
   ],
   "metadata": {
    "id": "obTiwu0Vh77R"
   },
   "execution_count": null,
   "outputs": []
  }
 ]
}